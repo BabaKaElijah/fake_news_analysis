{
 "cells": [
  {
   "cell_type": "code",
   "execution_count": 1,
   "id": "d9af81a7-981b-4581-872a-74b4a79050b6",
   "metadata": {},
   "outputs": [
    {
     "name": "stderr",
     "output_type": "stream",
     "text": [
      "WARNING:absl:Compiled the loaded model, but the compiled metrics have yet to be built. `model.compile_metrics` will be empty until you train or evaluate the model.\n"
     ]
    }
   ],
   "source": [
    "from tensorflow.keras.models import load_model\n",
    "from tensorflow.keras.preprocessing.sequence import pad_sequences\n",
    "import pickle\n",
    "import re\n",
    "\n",
    "# Load model\n",
    "model = load_model(\"fake_news_model.h5\")\n",
    "\n",
    "# Load tokenizer\n",
    "with open(\"tokenizer.pkl\", \"rb\") as f:\n",
    "    tokenizer = pickle.load(f)\n",
    "\n",
    "MAX_LEN = 100\n",
    "\n",
    "# Cleaning function\n",
    "def clean_text(text):\n",
    "    text = text.lower()\n",
    "    text = re.sub(r'[^a-zA-Z0-9\\s]', '', text)\n",
    "    return text\n",
    "\n",
    "# Prediction function\n",
    "def predict_news(article):\n",
    "    article_clean = clean_text(article)\n",
    "    seq = tokenizer.texts_to_sequences([article_clean])\n",
    "    padded = pad_sequences(seq, maxlen=MAX_LEN)\n",
    "    prob = model.predict(padded)[0][0]\n",
    "    label = \"Real\" if prob > 0.5 else \"Fake\"\n",
    "    print(f\"\\nArticle: {article}\")\n",
    "    print(f\"Prediction: {label}, Probability: {prob:.4f}\")"
   ]
  },
  {
   "cell_type": "code",
   "execution_count": null,
   "id": "7e222c65-3e68-4eab-b700-5686ced4ccff",
   "metadata": {},
   "outputs": [
    {
     "name": "stdin",
     "output_type": "stream",
     "text": [
      "Enter a news article (or type 'exit' to quit):\n",
      " Immersive in the best way. Everywhere, you see unbelievably stunning visuals. The action is adrenaline inducing. Just pause after an epic battle and be in a serene moment of pure joy. The music leaves a powerful impression that words can't describe. PS5 Pro makes this game run like a dream with best quality and performance I've seen on any PlayStation to date. I want to spend hours upon hours in this game just freely going about various fun tasks that are actually enjoyable instead of feeling like I'm doing a bunch of mindless chores. Customization is simple and makes every moment so unique to the player. 100/100. No flaws.\n"
     ]
    },
    {
     "name": "stdout",
     "output_type": "stream",
     "text": [
      "\u001b[1m1/1\u001b[0m \u001b[32m━━━━━━━━━━━━━━━━━━━━\u001b[0m\u001b[37m\u001b[0m \u001b[1m2s\u001b[0m 2s/step\n",
      "\n",
      "Article: Immersive in the best way. Everywhere, you see unbelievably stunning visuals. The action is adrenaline inducing. Just pause after an epic battle and be in a serene moment of pure joy. The music leaves a powerful impression that words can't describe. PS5 Pro makes this game run like a dream with best quality and performance I've seen on any PlayStation to date. I want to spend hours upon hours in this game just freely going about various fun tasks that are actually enjoyable instead of feeling like I'm doing a bunch of mindless chores. Customization is simple and makes every moment so unique to the player. 100/100. No flaws.\n",
      "Prediction: Real, Probability: 1.0000\n"
     ]
    }
   ],
   "source": [
    "while True:\n",
    "    user_input = input(\"Enter a news article (or type 'exit' to quit):\\n\")\n",
    "    if user_input.lower() == \"exit\":\n",
    "        print(\"Exiting program.\")\n",
    "        break\n",
    "    predict_news(user_input)"
   ]
  },
  {
   "cell_type": "code",
   "execution_count": null,
   "id": "e4b9c477-d519-4e0f-aed1-b360a4417f25",
   "metadata": {},
   "outputs": [],
   "source": []
  }
 ],
 "metadata": {
  "kernelspec": {
   "display_name": "Python 3.13",
   "language": "python",
   "name": "python313"
  },
  "language_info": {
   "codemirror_mode": {
    "name": "ipython",
    "version": 3
   },
   "file_extension": ".py",
   "mimetype": "text/x-python",
   "name": "python",
   "nbconvert_exporter": "python",
   "pygments_lexer": "ipython3",
   "version": "3.13.5"
  }
 },
 "nbformat": 4,
 "nbformat_minor": 5
}
